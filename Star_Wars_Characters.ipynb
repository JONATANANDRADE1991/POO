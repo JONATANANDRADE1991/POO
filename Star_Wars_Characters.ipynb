{
  "nbformat": 4,
  "nbformat_minor": 0,
  "metadata": {
    "colab": {
      "name": "Star Wars Characters.ipynb",
      "provenance": [],
      "authorship_tag": "ABX9TyMYDsm0NYccWgU1ObbSfLui",
      "include_colab_link": true
    },
    "kernelspec": {
      "name": "python3",
      "display_name": "Python 3"
    },
    "language_info": {
      "name": "python"
    }
  },
  "cells": [
    {
      "cell_type": "markdown",
      "metadata": {
        "id": "view-in-github",
        "colab_type": "text"
      },
      "source": [
        "<a href=\"https://colab.research.google.com/github/JONATANANDRADE1991/POO/blob/main/Star_Wars_Characters.ipynb\" target=\"_parent\"><img src=\"https://colab.research.google.com/assets/colab-badge.svg\" alt=\"Open In Colab\"/></a>"
      ]
    },
    {
      "cell_type": "code",
      "execution_count": null,
      "metadata": {
        "id": "wagC8DfKp-r3"
      },
      "outputs": [],
      "source": [
        "class StarWars:\n",
        "    \n",
        "    # Class attributes (Names)\n",
        "    name1 = \"Luke Skywalker\"\n",
        "    name2 = \"Chewbbaca\"\n",
        "    name3 = \"Anakin Skywalker\"\n",
        "    name4 = \"Han Solo\"\n",
        "\n",
        "    # Class attributes (Powers)\n",
        "    poder1 = \"Force Shield\"\n",
        "    Character2 = \"Power Gun\"\n",
        "    Character3 = \"Mental Control\"\n",
        "    Character4 = \"Kindness\"\n",
        "\n",
        "    # Class attributes (Age)\n",
        "    Character1 = \"Force Shield\"\n",
        "    Character2 = \"Power Gun\"\n",
        "    Character3 = \"Mental Control\"\n",
        "    Character4 = \"Kindness\"\n",
        "    \n",
        "    # Method\n",
        "    def Selection():\n",
        "        print(f\"I select the {GameCharacter.name}\")\n",
        "\n",
        "# Object Creation\n",
        "vesimir = GameCharacter()\n",
        "\n",
        "# Access object attributes using the dot notation\n",
        "print(\"Vesimir's Name: \" , vesimir.name)\n",
        "print(\"Vesimir's Hair Color: \", vesimir.hair_color )\n",
        "print(\"Vesimir is Saying: \", vesimir.say() )"
      ]
    }
  ]
}